{
 "cells": [
  {
   "cell_type": "code",
   "execution_count": 5,
   "metadata": {
    "editable": true
   },
   "outputs": [],
   "source": [
    "import pandas as pd"
   ]
  },
  {
   "cell_type": "code",
   "execution_count": 6,
   "metadata": {
    "editable": true
   },
   "outputs": [],
   "source": [
    "df = pd.read_json('data/log_data/2018/11/2018-11-01-events.json', lines=True)"
   ]
  },
  {
   "cell_type": "code",
   "execution_count": 7,
   "metadata": {
    "editable": true
   },
   "outputs": [
    {
     "name": "stdout",
     "output_type": "stream",
     "text": [
      "                        artist       auth firstName gender  itemInSession  \\\n",
      "0                         None  Logged In    Walter      M              0   \n",
      "1                         None  Logged In    Kaylee      F              0   \n",
      "2                      Des'ree  Logged In    Kaylee      F              1   \n",
      "3                         None  Logged In    Kaylee      F              2   \n",
      "4                      Mr Oizo  Logged In    Kaylee      F              3   \n",
      "5                   Tamba Trio  Logged In    Kaylee      F              4   \n",
      "6               The Mars Volta  Logged In    Kaylee      F              5   \n",
      "7            Infected Mushroom  Logged In    Kaylee      F              6   \n",
      "8   Blue October / Imogen Heap  Logged In    Kaylee      F              7   \n",
      "9                    Girl Talk  Logged In    Kaylee      F              8   \n",
      "10             Black Eyed Peas  Logged In    Sylvie      F              0   \n",
      "11                        None  Logged In      Ryan      M              0   \n",
      "12                Fall Out Boy  Logged In      Ryan      M              1   \n",
      "13                      M.I.A.  Logged In      Ryan      M              2   \n",
      "14                    Survivor  Logged In    Jayden      M              0   \n",
      "\n",
      "   lastName     length level                                      location  \\\n",
      "0      Frye        NaN  free             San Francisco-Oakland-Hayward, CA   \n",
      "1   Summers        NaN  free                   Phoenix-Mesa-Scottsdale, AZ   \n",
      "2   Summers  246.30812  free                   Phoenix-Mesa-Scottsdale, AZ   \n",
      "3   Summers        NaN  free                   Phoenix-Mesa-Scottsdale, AZ   \n",
      "4   Summers  144.03873  free                   Phoenix-Mesa-Scottsdale, AZ   \n",
      "5   Summers  177.18812  free                   Phoenix-Mesa-Scottsdale, AZ   \n",
      "6   Summers  380.42077  free                   Phoenix-Mesa-Scottsdale, AZ   \n",
      "7   Summers  440.26730  free                   Phoenix-Mesa-Scottsdale, AZ   \n",
      "8   Summers  241.39710  free                   Phoenix-Mesa-Scottsdale, AZ   \n",
      "9   Summers  160.15628  free                   Phoenix-Mesa-Scottsdale, AZ   \n",
      "10     Cruz  214.93506  free  Washington-Arlington-Alexandria, DC-VA-MD-WV   \n",
      "11    Smith        NaN  free            San Jose-Sunnyvale-Santa Clara, CA   \n",
      "12    Smith  200.72444  free            San Jose-Sunnyvale-Santa Clara, CA   \n",
      "13    Smith  233.71710  free            San Jose-Sunnyvale-Santa Clara, CA   \n",
      "14      Fox  245.36771  free                      New Orleans-Metairie, LA   \n",
      "\n",
      "   method      page   registration  sessionId  \\\n",
      "0     GET      Home  1540919166796         38   \n",
      "1     GET      Home  1540344794796        139   \n",
      "2     PUT  NextSong  1540344794796        139   \n",
      "3     GET   Upgrade  1540344794796        139   \n",
      "4     PUT  NextSong  1540344794796        139   \n",
      "5     PUT  NextSong  1540344794796        139   \n",
      "6     PUT  NextSong  1540344794796        139   \n",
      "7     PUT  NextSong  1540344794796        139   \n",
      "8     PUT  NextSong  1540344794796        139   \n",
      "9     PUT  NextSong  1540344794796        139   \n",
      "10    PUT  NextSong  1540266185796          9   \n",
      "11    GET      Home  1541016707796        169   \n",
      "12    PUT  NextSong  1541016707796        169   \n",
      "13    PUT  NextSong  1541016707796        169   \n",
      "14    PUT  NextSong  1541033612796        100   \n",
      "\n",
      "                                                song  status             ts  \\\n",
      "0                                               None     200  1541105830796   \n",
      "1                                               None     200  1541106106796   \n",
      "2                                       You Gotta Be     200  1541106106796   \n",
      "3                                               None     200  1541106132796   \n",
      "4                                            Flat 55     200  1541106352796   \n",
      "5                       Quem Quiser Encontrar O Amor     200  1541106496796   \n",
      "6                                          Eriatarka     200  1541106673796   \n",
      "7                                    Becoming Insane     200  1541107053796   \n",
      "8                                    Congratulations     200  1541107493796   \n",
      "9                                         Once again     200  1541107734796   \n",
      "10                                           Pump It     200  1541108520796   \n",
      "11                                              None     200  1541109015796   \n",
      "12                    Nobody Puts Baby In The Corner     200  1541109125796   \n",
      "13  Mango Pickle Down River (With The Wilcannia Mob)     200  1541109325796   \n",
      "14                                  Eye Of The Tiger     200  1541110994796   \n",
      "\n",
      "                                            userAgent  userId  \n",
      "0   \"Mozilla/5.0 (Macintosh; Intel Mac OS X 10_9_4...      39  \n",
      "1   \"Mozilla/5.0 (Windows NT 6.1; WOW64) AppleWebK...       8  \n",
      "2   \"Mozilla/5.0 (Windows NT 6.1; WOW64) AppleWebK...       8  \n",
      "3   \"Mozilla/5.0 (Windows NT 6.1; WOW64) AppleWebK...       8  \n",
      "4   \"Mozilla/5.0 (Windows NT 6.1; WOW64) AppleWebK...       8  \n",
      "5   \"Mozilla/5.0 (Windows NT 6.1; WOW64) AppleWebK...       8  \n",
      "6   \"Mozilla/5.0 (Windows NT 6.1; WOW64) AppleWebK...       8  \n",
      "7   \"Mozilla/5.0 (Windows NT 6.1; WOW64) AppleWebK...       8  \n",
      "8   \"Mozilla/5.0 (Windows NT 6.1; WOW64) AppleWebK...       8  \n",
      "9   \"Mozilla/5.0 (Windows NT 6.1; WOW64) AppleWebK...       8  \n",
      "10  \"Mozilla/5.0 (Macintosh; Intel Mac OS X 10_9_4...      10  \n",
      "11  \"Mozilla/5.0 (X11; Linux x86_64) AppleWebKit/5...      26  \n",
      "12  \"Mozilla/5.0 (X11; Linux x86_64) AppleWebKit/5...      26  \n",
      "13  \"Mozilla/5.0 (X11; Linux x86_64) AppleWebKit/5...      26  \n",
      "14  \"Mozilla/5.0 (Windows NT 6.3; WOW64) AppleWebK...     101  \n"
     ]
    }
   ],
   "source": [
    "print(df)\n"
   ]
  },
  {
   "cell_type": "code",
   "execution_count": 8,
   "metadata": {
    "editable": true
   },
   "outputs": [],
   "source": [
    "df1 = pd.read_json('data/song_data/A/B/C/TRABCEI128F424C983.json', lines=True)"
   ]
  },
  {
   "cell_type": "code",
   "execution_count": 9,
   "metadata": {
    "editable": true
   },
   "outputs": [
    {
     "name": "stdout",
     "output_type": "stream",
     "text": [
      "            artist_id  artist_latitude artist_location  artist_longitude  \\\n",
      "0  ARJIE2Y1187B994AB7              NaN                               NaN   \n",
      "\n",
      "   artist_name   duration  num_songs             song_id                title  \\\n",
      "0  Line Renaud  152.92036          1  SOUPIRU12A6D4FA1E1  Der Kleine Dompfaff   \n",
      "\n",
      "   year  \n",
      "0     0  \n"
     ]
    }
   ],
   "source": [
    "print(df1)"
   ]
  },
  {
   "cell_type": "code",
   "execution_count": null,
   "metadata": {
    "editable": true
   },
   "outputs": [],
   "source": []
  }
 ],
 "metadata": {
  "kernelspec": {
   "display_name": "Python 3",
   "language": "python",
   "name": "python3"
  },
  "language_info": {
   "codemirror_mode": {
    "name": "ipython",
    "version": 3
   },
   "file_extension": ".py",
   "mimetype": "text/x-python",
   "name": "python",
   "nbconvert_exporter": "python",
   "pygments_lexer": "ipython3",
   "version": "3.6.3"
  }
 },
 "nbformat": 4,
 "nbformat_minor": 4
}
